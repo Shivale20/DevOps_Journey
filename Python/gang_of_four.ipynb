{
 "cells": [
  {
   "cell_type": "markdown",
   "metadata": {},
   "source": [
    "-----Publishers and Subscribers-----\n",
    "\n",
    "Publishers publish messages to topics, subscribers listen for messages on topic\n"
   ]
  },
  {
   "cell_type": "markdown",
   "metadata": {},
   "source": [
    "Publisher will send notification of message to registered user.\n",
    "Registered user can unregister if they do not want the notification."
   ]
  },
  {
   "cell_type": "code",
   "execution_count": 37,
   "metadata": {},
   "outputs": [],
   "source": [
    "class Publisher:\n",
    "\n",
    "    def __init__(self, name):\n",
    "        self.__name = name #name of the publisher\n",
    "        self.__subscribers = set() #every publisher has set of subscriber (unique and unordered)\n",
    "\n",
    "    def register(self, subscriber):\n",
    "        self.__subscribers.add(subscriber) #subscriber can register. add to subscriber set.\n",
    "\n",
    "    def unregister(self, subscriber):\n",
    "        self.__subscribers.discard(subscriber) #subscriber can unregister. remove from subscriber set.\n",
    "\n",
    "    def publish(self, message):\n",
    "        for subscriber in self.__subscribers:\n",
    "            subscriber.notify(message)  #notify each subscriber with the message published by publisher to its registered subscriber."
   ]
  },
  {
   "cell_type": "markdown",
   "metadata": {},
   "source": [
    "Subscriber will have their name and will get notified with the message"
   ]
  },
  {
   "cell_type": "code",
   "execution_count": 38,
   "metadata": {},
   "outputs": [],
   "source": [
    "class Subscriber():\n",
    "\n",
    "    def __init__(self, name):\n",
    "        self.__name = name #name of the subscriber\n",
    "\n",
    "    def notify(self, message):\n",
    "        print(f\"{self.__name} received message: {message}\")"
   ]
  },
  {
   "cell_type": "markdown",
   "metadata": {},
   "source": [
    "Sample case:\n",
    "say Publisher name: \"News\"\n",
    "\n",
    "we have 2 new subscribers: \"Alice\" and \"Bob\"\n",
    "\n",
    "Now these 2 subscribers register for Publisher name \"News\"\n",
    "\n",
    "and Publisher published a message: \"This is first amazing offer for new subscriber who have joined recently to my news update.\""
   ]
  },
  {
   "cell_type": "code",
   "execution_count": 39,
   "metadata": {},
   "outputs": [
    {
     "name": "stdout",
     "output_type": "stream",
     "text": [
      "Alice received message: This is first amazing offer for new subscriber who have joined recently to my news update.\n",
      "Bob received message: This is first amazing offer for new subscriber who have joined recently to my news update.\n"
     ]
    }
   ],
   "source": [
    "publisher = Publisher(\"news\") #create an instance of Publisher whose name is \"news\"\n",
    "alice = Subscriber(name=\"Alice\") #add alice to subscriber\n",
    "bob = Subscriber(name=\"Bob\") #add bob to subscriber\n",
    "\n",
    "#register them\n",
    "publisher.register(alice)\n",
    "publisher.register(bob)\n",
    "\n",
    "#publish the message to all registered subscriber.\n",
    "publisher.publish(\"This is first amazing offer for new subscriber who have joined recently to my news update.\")\n"
   ]
  },
  {
   "cell_type": "markdown",
   "metadata": {},
   "source": [
    "Suppose \"Charlie\" is newly registered to get message from Publisher named \"news\"\n",
    "and Bob does not want to get message anymore.\n",
    "\n",
    "publisher wants to send new message to all its registered subscriber\n",
    "message: \"It is amazing that people are loving us more. Keep updating us with your precious feedback!\""
   ]
  },
  {
   "cell_type": "code",
   "execution_count": 40,
   "metadata": {},
   "outputs": [
    {
     "name": "stdout",
     "output_type": "stream",
     "text": [
      "Charlie received message: It is amazing that people are loving us more. Keep updating us with your precious feedback!\n",
      "Alice received message: It is amazing that people are loving us more. Keep updating us with your precious feedback!\n"
     ]
    }
   ],
   "source": [
    "charlie = Subscriber(\"Charlie\") #add to subscriber\n",
    "publisher.register(charlie) #subscriber will register to publisher\n",
    "publisher.unregister(bob) #susbcriber unregistered\n",
    "publisher.publish(\"It is amazing that people are loving us more. Keep updating us with your precious feedback!\") #publisher published."
   ]
  },
  {
   "cell_type": "markdown",
   "metadata": {},
   "source": [
    "Products and Customers\n",
    "\n",
    "Imagine customers register for your ecommerce website to get notification about price change and inventory updates on the particular product. \n",
    "if price drop below threshold, Customer may buy it.\n",
    "or if product comes back in stock, Customer might buy it."
   ]
  },
  {
   "cell_type": "code",
   "execution_count": 41,
   "metadata": {},
   "outputs": [],
   "source": [
    "class Product:\n",
    "\n",
    "    PRICE = \"price\"\n",
    "    STOCK = \"stock\"\n",
    "\n",
    "    def __init__(self, name, price):\n",
    "        self.__name = name #name of product\n",
    "        self.__price = price #price of product\n",
    "        self.__price_observers = set() #set of unique customers who are interested in price updates only.\n",
    "        self.__stock_observers = set() #set of unique customers who are interested in stock updated only.\n",
    "\n",
    "    #add customer in their set\n",
    "    def add_observer(self, observer_type, observer):\n",
    "        if observer_type == self.PRICE:\n",
    "            self.__price_observers.add(observer)\n",
    "        elif observer_type == self.STOCK:\n",
    "            self.__stock_observers.add(observer)\n",
    "\n",
    "    #remove observer from their set\n",
    "    def remove_observer(self, observer_type, observer):\n",
    "        if observer_type == self.PRICE:\n",
    "            self.__price_observers.discard(observer)\n",
    "        elif observer_type == self.STOCK:\n",
    "            self.__stock_observers.discard(observer)\n",
    "\n",
    "    #update price\n",
    "    def update_price(self, price):\n",
    "        self.__price = price #new price\n",
    "        self.__notify(self.PRICE) #notify all the price observers with new price\n",
    "\n",
    "    #update stock\n",
    "    def update_stock(self, stock):\n",
    "        self.__stock = stock #new stock\n",
    "        self.__notify(self.STOCK) #notify all the stock observers with new stock of the product\n",
    "\n",
    "    #notify observers based on their observer type\n",
    "    def __notify(self, observer_type):\n",
    "\n",
    "        #temporary observers list\n",
    "        observers = []\n",
    "\n",
    "        message = None\n",
    "\n",
    "        if observer_type == self.PRICE:\n",
    "            observers = self.__price_observers\n",
    "            message = f\"{self.__name} price updated to {self.__price}\" #name of product\n",
    "        elif observer_type ==self.STOCK:\n",
    "            observers = self.__stock_observers\n",
    "            message = f\"{self.__name} now back in stock\" #name of product \n",
    "\n",
    "        for observer in observers:\n",
    "            observer.notify(message) # notify to each observer\n"
   ]
  },
  {
   "cell_type": "code",
   "execution_count": 42,
   "metadata": {},
   "outputs": [],
   "source": [
    "class Customer:\n",
    "\n",
    "    def __init__ (self, name):\n",
    "        self.__name = name #name of customer\n",
    "\n",
    "    def notify(self, message):\n",
    "        print(f\"{self.__name} - {message}\") #message sent"
   ]
  },
  {
   "cell_type": "code",
   "execution_count": 43,
   "metadata": {},
   "outputs": [],
   "source": [
    "#add product\n",
    "apple_iwatch = Product('iwatch', 600)\n",
    "samsung_watch = Product('swatch', 300)\n",
    "\n",
    "#add customers\n",
    "alisha = Customer(name=\"Alisha\")\n",
    "bobbie = Customer(name=\"Bobbie\")\n",
    "charve = Customer(name=\"Charve\")\n",
    "\n",
    "\n"
   ]
  },
  {
   "cell_type": "markdown",
   "metadata": {},
   "source": [
    "suppose \n",
    "Alisha is interested in price and stock change of apple iwatch.\n",
    "Bobbie is interested in price and stock change of samsung swatch\n",
    "Charvey is interested in price of apple iwatch and samsung swatch so that whichever has lower price - she may buy."
   ]
  },
  {
   "cell_type": "code",
   "execution_count": 44,
   "metadata": {},
   "outputs": [],
   "source": [
    "apple_iwatch.add_observer(observer_type=Product.PRICE, observer=alisha)\n",
    "apple_iwatch.add_observer(observer_type=Product.STOCK, observer=alisha)\n",
    "\n",
    "samsung_watch.add_observer(observer_type=Product.PRICE, observer=bobbie)\n",
    "samsung_watch.add_observer(observer_type=Product.STOCK, observer=bobbie)\n",
    "\n",
    "apple_iwatch.add_observer(observer_type=Product.PRICE, observer=charve)\n",
    "samsung_watch.add_observer(observer_type=Product.PRICE, observer=charve)"
   ]
  },
  {
   "cell_type": "markdown",
   "metadata": {},
   "source": [
    "Let's now say price of the apple iwatch is updated "
   ]
  },
  {
   "cell_type": "code",
   "execution_count": 45,
   "metadata": {},
   "outputs": [
    {
     "name": "stdout",
     "output_type": "stream",
     "text": [
      "Alisha - iwatch price updated to 400\n",
      "Charve - iwatch price updated to 400\n"
     ]
    }
   ],
   "source": [
    "apple_iwatch.update_price(price=400)"
   ]
  },
  {
   "cell_type": "markdown",
   "metadata": {},
   "source": [
    "let's now price and stock of samsung swatch is updated"
   ]
  },
  {
   "cell_type": "code",
   "execution_count": 46,
   "metadata": {},
   "outputs": [
    {
     "name": "stdout",
     "output_type": "stream",
     "text": [
      "Charve - swatch price updated to 500\n",
      "Bobbie - swatch price updated to 500\n",
      "Bobbie - swatch now back in stock\n"
     ]
    }
   ],
   "source": [
    "samsung_watch.update_price(500)\n",
    "samsung_watch.update_stock(stock=20) #from 0 to 20 in inventory"
   ]
  }
 ],
 "metadata": {
  "kernelspec": {
   "display_name": ".venv",
   "language": "python",
   "name": "python3"
  },
  "language_info": {
   "codemirror_mode": {
    "name": "ipython",
    "version": 3
   },
   "file_extension": ".py",
   "mimetype": "text/x-python",
   "name": "python",
   "nbconvert_exporter": "python",
   "pygments_lexer": "ipython3",
   "version": "3.9.6"
  },
  "orig_nbformat": 4
 },
 "nbformat": 4,
 "nbformat_minor": 2
}
